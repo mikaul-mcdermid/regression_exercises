{
 "cells": [
  {
   "cell_type": "code",
   "execution_count": 5,
   "id": "24c0cc56-1c91-4ebd-9691-defa760f3685",
   "metadata": {
    "tags": []
   },
   "outputs": [],
   "source": [
    "import numpy as np\n",
    "import pandas as pd\n",
    "import seaborn as sns\n",
    "import matplotlib.pyplot as plt\n",
    "import env as e"
   ]
  },
  {
   "cell_type": "code",
   "execution_count": 4,
   "id": "2ca8a922-7da2-468e-b169-39f4aa40cdc5",
   "metadata": {
    "tags": []
   },
   "outputs": [],
   "source": [
    "query = \"\"\"\n",
    "select bedroomcnt, bathroomcnt, calculatedfinishedsquarefeet, taxvaluedollarcnt, yearbuilt, taxamount, fips\n",
    "from propertylandusetype\n",
    "\tjoin properties_2017\n",
    "\t\tusing (propertylandusetypeid)\n",
    "WHERE propertylandusedesc = (\"Single Family Residential\")\n",
    "\"\"\""
   ]
  },
  {
   "cell_type": "code",
   "execution_count": 9,
   "id": "bbead19a-886a-4c59-8a6f-1b6671318032",
   "metadata": {
    "tags": []
   },
   "outputs": [],
   "source": [
    "zillow = e.get_db_url('zillow')"
   ]
  },
  {
   "cell_type": "code",
   "execution_count": 11,
   "id": "97c89959-c151-44ab-9d31-850433bd33a4",
   "metadata": {
    "tags": []
   },
   "outputs": [],
   "source": [
    "zillow_df = pd.read_sql(query, zillow)"
   ]
  },
  {
   "cell_type": "code",
   "execution_count": 14,
   "id": "9546bd98-d4d6-4cd3-a2c8-c1f78bf7e8a7",
   "metadata": {
    "tags": []
   },
   "outputs": [
    {
     "data": {
      "text/plain": [
       "bedroomcnt                        11\n",
       "bathroomcnt                       11\n",
       "calculatedfinishedsquarefeet    8484\n",
       "taxvaluedollarcnt                493\n",
       "yearbuilt                       9337\n",
       "taxamount                       4442\n",
       "fips                               0\n",
       "dtype: int64"
      ]
     },
     "execution_count": 14,
     "metadata": {},
     "output_type": "execute_result"
    }
   ],
   "source": [
    "zillow_df.isnull().sum()"
   ]
  },
  {
   "cell_type": "code",
   "execution_count": 15,
   "id": "c16f469f-1b25-4aa5-9167-b6afbe8bb119",
   "metadata": {
    "tags": []
   },
   "outputs": [
    {
     "data": {
      "text/plain": [
       "bedroomcnt                      float64\n",
       "bathroomcnt                     float64\n",
       "calculatedfinishedsquarefeet    float64\n",
       "taxvaluedollarcnt               float64\n",
       "yearbuilt                       float64\n",
       "taxamount                       float64\n",
       "fips                            float64\n",
       "dtype: object"
      ]
     },
     "execution_count": 15,
     "metadata": {},
     "output_type": "execute_result"
    }
   ],
   "source": [
    "zillow_df.dtypes"
   ]
  },
  {
   "cell_type": "code",
   "execution_count": 20,
   "id": "3423a94b-36d8-4871-bed0-8644b6caf100",
   "metadata": {
    "tags": []
   },
   "outputs": [
    {
     "data": {
      "text/plain": [
       "9337"
      ]
     },
     "execution_count": 20,
     "metadata": {},
     "output_type": "execute_result"
    }
   ],
   "source": [
    "zillow_df.yearbuilt.isnull().sum()"
   ]
  },
  {
   "cell_type": "markdown",
   "id": "707fedfc-63d8-4378-bf16-b853e565f628",
   "metadata": {},
   "source": [
    "Jacob says removing the null values is fine because it's only .4 sumn percent of the data, so we will move forward with this step in cleaning"
   ]
  },
  {
   "cell_type": "code",
   "execution_count": 26,
   "id": "3521c241-51f6-4ce6-8521-7787ee1b4d99",
   "metadata": {
    "tags": []
   },
   "outputs": [],
   "source": [
    "zillow_df = zillow_df.dropna()"
   ]
  },
  {
   "cell_type": "markdown",
   "id": "011520b8-ea42-47c2-b2ff-a5f318ee1753",
   "metadata": {},
   "source": [
    "Jacob says dropping all the nulls only removes .58% of the data"
   ]
  },
  {
   "cell_type": "code",
   "execution_count": 34,
   "id": "fc00a343-2e72-46aa-8346-18a060b9e95f",
   "metadata": {
    "tags": []
   },
   "outputs": [],
   "source": [
    "zillow_df.yearbuilt = zillow_df.yearbuilt.astype(int)\n",
    "zillow_df.bedroomcnt = zillow_df.bedroomcnt.astype(int)\n",
    "zillow_df.fips = zillow_df.fips.astype(int)\n",
    "zillow_df.taxvaluedollarcnt = zillow_df.taxvaluedollarcnt.astype(int) \n",
    "zillow_df.calculatedfinishedsquarefeet = zillow_df.calculatedfinishedsquarefeet.astype(int)"
   ]
  },
  {
   "cell_type": "code",
   "execution_count": 35,
   "id": "7b6a398e-452e-4504-b605-713ef8554498",
   "metadata": {
    "tags": []
   },
   "outputs": [
    {
     "data": {
      "text/plain": [
       "bedroomcnt                        int64\n",
       "bathroomcnt                     float64\n",
       "calculatedfinishedsquarefeet      int64\n",
       "taxvaluedollarcnt                 int64\n",
       "yearbuilt                         int64\n",
       "taxamount                       float64\n",
       "fips                              int64\n",
       "dtype: object"
      ]
     },
     "execution_count": 35,
     "metadata": {},
     "output_type": "execute_result"
    }
   ],
   "source": [
    "zillow_df.dtypes"
   ]
  },
  {
   "cell_type": "code",
   "execution_count": null,
   "id": "3c92eb6f-9c6f-41fe-919d-e22eddf527ba",
   "metadata": {},
   "outputs": [],
   "source": []
  },
  {
   "cell_type": "code",
   "execution_count": null,
   "id": "d17f745d-da20-4156-a4f7-290f12c84c66",
   "metadata": {},
   "outputs": [],
   "source": []
  },
  {
   "cell_type": "code",
   "execution_count": null,
   "id": "4bca82bc-1be4-49f0-9ec2-4f394f6954a5",
   "metadata": {},
   "outputs": [],
   "source": []
  },
  {
   "cell_type": "code",
   "execution_count": null,
   "id": "040df9bc-e74b-4084-aa78-12acb824a3f6",
   "metadata": {},
   "outputs": [],
   "source": []
  },
  {
   "cell_type": "code",
   "execution_count": null,
   "id": "d2f88a89-41d9-44c9-b2e7-8d2abfedf7de",
   "metadata": {},
   "outputs": [],
   "source": []
  },
  {
   "cell_type": "code",
   "execution_count": null,
   "id": "3af18cb0-a28f-4afb-9fc2-ec3de4afd970",
   "metadata": {},
   "outputs": [],
   "source": []
  },
  {
   "cell_type": "code",
   "execution_count": null,
   "id": "beb450f9-9124-4e16-ae68-0902baafe90a",
   "metadata": {},
   "outputs": [],
   "source": []
  },
  {
   "cell_type": "code",
   "execution_count": null,
   "id": "264e891b-b9e2-4055-8db8-125c5059ad0d",
   "metadata": {},
   "outputs": [],
   "source": []
  },
  {
   "cell_type": "code",
   "execution_count": null,
   "id": "eac21a85-b085-470e-8694-38519113b434",
   "metadata": {},
   "outputs": [],
   "source": []
  },
  {
   "cell_type": "code",
   "execution_count": null,
   "id": "d24fa26e-e46e-41e8-9371-ded9c94031de",
   "metadata": {},
   "outputs": [],
   "source": []
  },
  {
   "cell_type": "code",
   "execution_count": null,
   "id": "9b201e4b-e8e2-479e-b876-8c968ccdf572",
   "metadata": {},
   "outputs": [],
   "source": []
  },
  {
   "cell_type": "code",
   "execution_count": null,
   "id": "1938d665-7b7a-4616-8b24-3764af473c6e",
   "metadata": {},
   "outputs": [],
   "source": []
  },
  {
   "cell_type": "code",
   "execution_count": null,
   "id": "6c825278-fb10-47df-aa61-2ce1354a26e3",
   "metadata": {},
   "outputs": [],
   "source": []
  },
  {
   "cell_type": "code",
   "execution_count": null,
   "id": "d04c2704-9fb0-47da-a439-563c164068c5",
   "metadata": {},
   "outputs": [],
   "source": []
  },
  {
   "cell_type": "code",
   "execution_count": null,
   "id": "4b90d9d5-f219-475a-bdda-b39f0279d3c1",
   "metadata": {},
   "outputs": [],
   "source": []
  },
  {
   "cell_type": "code",
   "execution_count": null,
   "id": "a7c083b0-e145-4333-acf4-563fec058852",
   "metadata": {},
   "outputs": [],
   "source": []
  },
  {
   "cell_type": "code",
   "execution_count": null,
   "id": "8b369f38-15c4-445a-927c-d482dee65738",
   "metadata": {},
   "outputs": [],
   "source": []
  },
  {
   "cell_type": "code",
   "execution_count": null,
   "id": "66ec0535-91d8-41d1-8201-75a3d53725fc",
   "metadata": {},
   "outputs": [],
   "source": []
  },
  {
   "cell_type": "code",
   "execution_count": null,
   "id": "acc1b6c4-5d30-4507-b349-dd9a02501a0c",
   "metadata": {},
   "outputs": [],
   "source": []
  },
  {
   "cell_type": "code",
   "execution_count": null,
   "id": "ac95425c-a108-49e9-9957-bb61ca1fef74",
   "metadata": {},
   "outputs": [],
   "source": []
  },
  {
   "cell_type": "code",
   "execution_count": null,
   "id": "2f187eab-8300-411a-8d23-7ec7846127bf",
   "metadata": {},
   "outputs": [],
   "source": []
  },
  {
   "cell_type": "code",
   "execution_count": null,
   "id": "13107755-6221-42cb-ab5e-7211f3e40765",
   "metadata": {},
   "outputs": [],
   "source": []
  }
 ],
 "metadata": {
  "kernelspec": {
   "display_name": "Python 3 (ipykernel)",
   "language": "python",
   "name": "python3"
  },
  "language_info": {
   "codemirror_mode": {
    "name": "ipython",
    "version": 3
   },
   "file_extension": ".py",
   "mimetype": "text/x-python",
   "name": "python",
   "nbconvert_exporter": "python",
   "pygments_lexer": "ipython3",
   "version": "3.11.5"
  }
 },
 "nbformat": 4,
 "nbformat_minor": 5
}

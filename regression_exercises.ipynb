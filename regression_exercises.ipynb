{
 "cells": [
  {
   "cell_type": "code",
   "execution_count": 2,
   "id": "24c0cc56-1c91-4ebd-9691-defa760f3685",
   "metadata": {
    "tags": []
   },
   "outputs": [],
   "source": [
    "import numpy as np\n",
    "import pandas as pd\n",
    "import seaborn as sns\n",
    "import matplotlib.pyplot as plt\n",
    "import env as e\n",
    "import wrangle as w"
   ]
  },
  {
   "cell_type": "code",
   "execution_count": 4,
   "id": "2ca8a922-7da2-468e-b169-39f4aa40cdc5",
   "metadata": {
    "tags": []
   },
   "outputs": [],
   "source": [
    "query = \"\"\"\n",
    "select bedroomcnt, bathroomcnt, calculatedfinishedsquarefeet, taxvaluedollarcnt, yearbuilt, taxamount, fips\n",
    "from propertylandusetype\n",
    "\tjoin properties_2017\n",
    "\t\tusing (propertylandusetypeid)\n",
    "WHERE propertylandusedesc = (\"Single Family Residential\")\n",
    "\"\"\""
   ]
  },
  {
   "cell_type": "code",
   "execution_count": 9,
   "id": "bbead19a-886a-4c59-8a6f-1b6671318032",
   "metadata": {
    "tags": []
   },
   "outputs": [],
   "source": [
    "zillow = e.get_db_url('zillow')"
   ]
  },
  {
   "cell_type": "code",
   "execution_count": 11,
   "id": "97c89959-c151-44ab-9d31-850433bd33a4",
   "metadata": {
    "tags": []
   },
   "outputs": [],
   "source": [
    "zillow_df = pd.read_sql(query, zillow)"
   ]
  },
  {
   "cell_type": "code",
   "execution_count": 14,
   "id": "9546bd98-d4d6-4cd3-a2c8-c1f78bf7e8a7",
   "metadata": {
    "tags": []
   },
   "outputs": [
    {
     "data": {
      "text/plain": [
       "bedroomcnt                        11\n",
       "bathroomcnt                       11\n",
       "calculatedfinishedsquarefeet    8484\n",
       "taxvaluedollarcnt                493\n",
       "yearbuilt                       9337\n",
       "taxamount                       4442\n",
       "fips                               0\n",
       "dtype: int64"
      ]
     },
     "execution_count": 14,
     "metadata": {},
     "output_type": "execute_result"
    }
   ],
   "source": [
    "zillow_df.isnull().sum()"
   ]
  },
  {
   "cell_type": "code",
   "execution_count": 15,
   "id": "c16f469f-1b25-4aa5-9167-b6afbe8bb119",
   "metadata": {
    "tags": []
   },
   "outputs": [
    {
     "data": {
      "text/plain": [
       "bedroomcnt                      float64\n",
       "bathroomcnt                     float64\n",
       "calculatedfinishedsquarefeet    float64\n",
       "taxvaluedollarcnt               float64\n",
       "yearbuilt                       float64\n",
       "taxamount                       float64\n",
       "fips                            float64\n",
       "dtype: object"
      ]
     },
     "execution_count": 15,
     "metadata": {},
     "output_type": "execute_result"
    }
   ],
   "source": [
    "zillow_df.dtypes"
   ]
  },
  {
   "cell_type": "code",
   "execution_count": 20,
   "id": "3423a94b-36d8-4871-bed0-8644b6caf100",
   "metadata": {
    "tags": []
   },
   "outputs": [
    {
     "data": {
      "text/plain": [
       "9337"
      ]
     },
     "execution_count": 20,
     "metadata": {},
     "output_type": "execute_result"
    }
   ],
   "source": [
    "zillow_df.yearbuilt.isnull().sum()"
   ]
  },
  {
   "cell_type": "markdown",
   "id": "707fedfc-63d8-4378-bf16-b853e565f628",
   "metadata": {},
   "source": [
    "Jacob says removing the null values is fine because it's only .4 sumn percent of the data, so we will move forward with this step in cleaning"
   ]
  },
  {
   "cell_type": "code",
   "execution_count": 26,
   "id": "3521c241-51f6-4ce6-8521-7787ee1b4d99",
   "metadata": {
    "tags": []
   },
   "outputs": [],
   "source": [
    "zillow_df = zillow_df.dropna()"
   ]
  },
  {
   "cell_type": "markdown",
   "id": "011520b8-ea42-47c2-b2ff-a5f318ee1753",
   "metadata": {},
   "source": [
    "Jacob says dropping all the nulls only removes .58% of the data"
   ]
  },
  {
   "cell_type": "code",
   "execution_count": 34,
   "id": "fc00a343-2e72-46aa-8346-18a060b9e95f",
   "metadata": {
    "tags": []
   },
   "outputs": [],
   "source": [
    "zillow_df.yearbuilt = zillow_df.yearbuilt.astype(int)\n",
    "zillow_df.bedroomcnt = zillow_df.bedroomcnt.astype(int)\n",
    "zillow_df.fips = zillow_df.fips.astype(int)\n",
    "zillow_df.taxvaluedollarcnt = zillow_df.taxvaluedollarcnt.astype(int) \n",
    "zillow_df.calculatedfinishedsquarefeet = zillow_df.calculatedfinishedsquarefeet.astype(int)"
   ]
  },
  {
   "cell_type": "code",
   "execution_count": 35,
   "id": "7b6a398e-452e-4504-b605-713ef8554498",
   "metadata": {
    "tags": []
   },
   "outputs": [
    {
     "data": {
      "text/plain": [
       "bedroomcnt                        int64\n",
       "bathroomcnt                     float64\n",
       "calculatedfinishedsquarefeet      int64\n",
       "taxvaluedollarcnt                 int64\n",
       "yearbuilt                         int64\n",
       "taxamount                       float64\n",
       "fips                              int64\n",
       "dtype: object"
      ]
     },
     "execution_count": 35,
     "metadata": {},
     "output_type": "execute_result"
    }
   ],
   "source": [
    "zillow_df.dtypes"
   ]
  },
  {
   "cell_type": "code",
   "execution_count": 3,
   "id": "3c92eb6f-9c6f-41fe-919d-e22eddf527ba",
   "metadata": {},
   "outputs": [],
   "source": [
    "df = w.wrangle_zillow()"
   ]
  },
  {
   "cell_type": "code",
   "execution_count": 11,
   "id": "d17f745d-da20-4156-a4f7-290f12c84c66",
   "metadata": {},
   "outputs": [],
   "source": [
    "df.to_csv('zillow')"
   ]
  },
  {
   "cell_type": "code",
   "execution_count": 14,
   "id": "3334f6a9-055a-4757-83b2-afb6c567ea16",
   "metadata": {
    "tags": []
   },
   "outputs": [],
   "source": [
    "df.fips = df.fips.map({6037:'LA', 6059:'Orange', 6111:'Ventura'})"
   ]
  },
  {
   "cell_type": "code",
   "execution_count": 16,
   "id": "4bca82bc-1be4-49f0-9ec2-4f394f6954a5",
   "metadata": {},
   "outputs": [
    {
     "data": {
      "text/plain": [
       "bedroomcnt                        int64\n",
       "bathroomcnt                     float64\n",
       "calculatedfinishedsquarefeet      int64\n",
       "taxvaluedollarcnt                 int64\n",
       "yearbuilt                         int64\n",
       "taxamount                       float64\n",
       "fips                             object\n",
       "taxvaluedollarcnt_bins            int64\n",
       "dtype: object"
      ]
     },
     "execution_count": 16,
     "metadata": {},
     "output_type": "execute_result"
    }
   ],
   "source": [
    "df.dtypes"
   ]
  },
  {
   "cell_type": "code",
   "execution_count": 18,
   "id": "48b5dcb6-5f81-46c7-ae9c-6691e549c4ec",
   "metadata": {
    "tags": []
   },
   "outputs": [
    {
     "data": {
      "image/png": "[encoded data removed]",
      "text/plain": [
       "<Figure size 1600x600 with 8 Axes>"
      ]
     },
     "metadata": {},
     "output_type": "display_data"
    }
   ],
   "source": [
    "plt.figure(figsize=(16,6))\n",
    "\n",
    "for i, col in enumerate(df.columns):\n",
    "    plot_number = i+1\n",
    "    plt.subplot(2,4,plot_number)\n",
    "    plt.title(col)\n",
    "    plt.hist(df[col])\n",
    "plt.show()"
   ]
  },
  {
   "cell_type": "code",
   "execution_count": 20,
   "id": "c1455011-9f29-4deb-b2ed-b5ae355e11ef",
   "metadata": {
    "tags": []
   },
   "outputs": [],
   "source": [
    "α= 0.05"
   ]
  },
  {
   "cell_type": "code",
   "execution_count": 21,
   "id": "f2760eaa-57cb-4d9b-a90b-7458ce18d8e8",
   "metadata": {
    "tags": []
   },
   "outputs": [
    {
     "ename": "NameError",
     "evalue": "name 'spearmanr' is not defined",
     "output_type": "error",
     "traceback": [
      "\u001b[0;31m---------------------------------------------------------------------------\u001b[0m",
      "\u001b[0;31mNameError\u001b[0m                                 Traceback (most recent call last)",
      "Cell \u001b[0;32mIn[21], line 1\u001b[0m\n\u001b[0;32m----> 1\u001b[0m r, p \u001b[38;5;241m=\u001b[39m spearmanr, (train\u001b[38;5;241m.\u001b[39mexam1, train\u001b[38;5;241m.\u001b[39mfinal_grade)\n\u001b[1;32m      2\u001b[0m r,p\n",
      "\u001b[0;31mNameError\u001b[0m: name 'spearmanr' is not defined"
     ]
    }
   ],
   "source": [
    "r, p = spearmanr, (train.exam1, train.final_grade)\n",
    "r,p"
   ]
  },
  {
   "cell_type": "code",
   "execution_count": null,
   "id": "e07c4ea4-0c78-4b7a-9705-a0e51bf2c775",
   "metadata": {},
   "outputs": [],
   "source": []
  },
  {
   "cell_type": "code",
   "execution_count": null,
   "id": "373a2205-b137-4bf0-8e31-16e78442f75d",
   "metadata": {},
   "outputs": [],
   "source": []
  },
  {
   "cell_type": "code",
   "execution_count": null,
   "id": "c24a4664-7111-423c-bf56-6829172a3d40",
   "metadata": {},
   "outputs": [],
   "source": []
  },
  {
   "cell_type": "code",
   "execution_count": null,
   "id": "4abbd14b-2bcb-4afb-953b-a803ce8ef212",
   "metadata": {},
   "outputs": [],
   "source": []
  },
  {
   "cell_type": "code",
   "execution_count": null,
   "id": "8161472c-2d41-40b3-ad2a-569022b60dcd",
   "metadata": {},
   "outputs": [],
   "source": []
  },
  {
   "cell_type": "code",
   "execution_count": null,
   "id": "953f05c7-3453-4c05-8a17-18755930f7ab",
   "metadata": {},
   "outputs": [],
   "source": []
  },
  {
   "cell_type": "code",
   "execution_count": 4,
   "id": "040df9bc-e74b-4084-aa78-12acb824a3f6",
   "metadata": {},
   "outputs": [
    {
     "name": "stdout",
     "output_type": "stream",
     "text": [
      "         bedroomcnt  bathroomcnt  calculatedfinishedsquarefeet  \\\n",
      "4                 4          2.0                          3633   \n",
      "6                 3          4.0                          1620   \n",
      "7                 3          2.0                          2077   \n",
      "11                0          0.0                          1200   \n",
      "14                0          0.0                           171   \n",
      "...             ...          ...                           ...   \n",
      "2152856           4          4.0                          4375   \n",
      "2152858           4          3.0                          2262   \n",
      "2152859           4          4.5                          3127   \n",
      "2152861           3          2.5                          1974   \n",
      "2152862           4          4.0                          2110   \n",
      "\n",
      "         taxvaluedollarcnt  yearbuilt  taxamount  fips  taxvaluedollarcnt_bins  \n",
      "4                   296425       2005    6941.39  6037                       0  \n",
      "6                   847770       2011   10244.94  6037                       0  \n",
      "7                   646760       1926    7924.68  6037                       0  \n",
      "11                    5328       1972      91.60  6037                       0  \n",
      "14                    6920       1973     255.17  6037                       0  \n",
      "...                    ...        ...        ...   ...                     ...  \n",
      "2152856             422400       2015   13877.56  6037                       0  \n",
      "2152858             960756       2015   13494.52  6059                       0  \n",
      "2152859             536061       2014    6244.16  6059                       0  \n",
      "2152861             424353       2015    5302.70  6059                       0  \n",
      "2152862             554009       2014    6761.20  6037                       0  \n",
      "\n",
      "[2140235 rows x 8 columns]\n"
     ]
    }
   ],
   "source": [
    "# Create bins and labels\n",
    "bins = pd.cut(df['taxvaluedollarcnt'], bins=4, labels=False)\n",
    "\n",
    "# Create a new column with the bins\n",
    "df['taxvaluedollarcnt_bins'] = bins\n",
    "\n",
    "# Display the DataFrame with the new column\n",
    "print(df)"
   ]
  },
  {
   "cell_type": "code",
   "execution_count": 8,
   "id": "d2f88a89-41d9-44c9-b2e7-8d2abfedf7de",
   "metadata": {},
   "outputs": [
    {
     "data": {
      "text/plain": [
       "taxvaluedollarcnt_bins\n",
       "0    2140082\n",
       "1        135\n",
       "2         13\n",
       "3          5\n",
       "Name: count, dtype: int64"
      ]
     },
     "execution_count": 8,
     "metadata": {},
     "output_type": "execute_result"
    }
   ],
   "source": [
    "df.taxvaluedollarcnt_bins.value_counts()"
   ]
  },
  {
   "cell_type": "code",
   "execution_count": 6,
   "id": "3af18cb0-a28f-4afb-9fc2-ec3de4afd970",
   "metadata": {},
   "outputs": [
    {
     "name": "stdout",
     "output_type": "stream",
     "text": [
      "taxvaluedollarcnt_bins\n",
      "0    2140082\n",
      "1        135\n",
      "2         13\n",
      "3          5\n",
      "Name: count, dtype: int64\n"
     ]
    }
   ],
   "source": [
    "print(df['taxvaluedollarcnt_bins'].value_counts())"
   ]
  },
  {
   "cell_type": "code",
   "execution_count": 7,
   "id": "beb450f9-9124-4e16-ae68-0902baafe90a",
   "metadata": {},
   "outputs": [
    {
     "data": {
      "text/plain": [
       "(         bedroomcnt  bathroomcnt  calculatedfinishedsquarefeet  \\\n",
       " 602399            4          3.0                          1844   \n",
       " 1222033           4          3.0                          2175   \n",
       " 515300            3          2.0                          1294   \n",
       " 452326            4          3.0                          2666   \n",
       " 105346            4          4.0                          3174   \n",
       " ...             ...          ...                           ...   \n",
       " 965456            3          3.0                          3512   \n",
       " 460322            4          2.0                          1657   \n",
       " 911166            3          2.0                          1652   \n",
       " 734428            3          2.0                          1275   \n",
       " 870503            3          2.0                          1766   \n",
       " \n",
       "          taxvaluedollarcnt  yearbuilt  taxamount  fips  taxvaluedollarcnt_bins  \n",
       " 602399              276670       1965    3455.87  6037                       0  \n",
       " 1222033             109443       1972    1484.05  6037                       0  \n",
       " 515300              438588       1957    4878.48  6059                       0  \n",
       " 452326              938740       2015   15820.52  6059                       0  \n",
       " 105346              201550       1973    2445.94  6059                       0  \n",
       " ...                    ...        ...        ...   ...                     ...  \n",
       " 965456              564073       1963    6802.23  6037                       0  \n",
       " 460322              239131       1972    3191.20  6059                       0  \n",
       " 911166              234876       1925    3176.02  6037                       0  \n",
       " 734428              102876       1955    1937.88  6037                       0  \n",
       " 870503              456712       1976    5064.24  6059                       0  \n",
       " \n",
       " [1284141 rows x 8 columns],\n",
       "          bedroomcnt  bathroomcnt  calculatedfinishedsquarefeet  \\\n",
       " 570609            4          2.0                          1430   \n",
       " 574739            3          1.0                           936   \n",
       " 838309            4          2.0                          1428   \n",
       " 472147            3          2.5                          2046   \n",
       " 1169028           3          2.0                          1273   \n",
       " ...             ...          ...                           ...   \n",
       " 1268842           3          2.0                          1852   \n",
       " 402216            5          5.0                          4727   \n",
       " 1514264           3          2.0                          1288   \n",
       " 1816858           3          2.0                          1592   \n",
       " 1945550           5          1.0                          1545   \n",
       " \n",
       "          taxvaluedollarcnt  yearbuilt  taxamount  fips  taxvaluedollarcnt_bins  \n",
       " 570609              234656       1964    3242.62  6059                       0  \n",
       " 574739               41006       1909     549.73  6037                       0  \n",
       " 838309              374376       1957    3962.52  6059                       0  \n",
       " 472147              107133       1965    1587.40  6059                       0  \n",
       " 1169028             383146       1959    4673.27  6037                       0  \n",
       " ...                    ...        ...        ...   ...                     ...  \n",
       " 1268842             519845       1999    6270.18  6059                       0  \n",
       " 402216             3167580       1936   35923.78  6037                       0  \n",
       " 1514264              85046       1960    1340.14  6037                       0  \n",
       " 1816858             197410       1957    2572.92  6059                       0  \n",
       " 1945550             185031       1952    2350.70  6059                       0  \n",
       " \n",
       " [428047 rows x 8 columns],\n",
       "          bedroomcnt  bathroomcnt  calculatedfinishedsquarefeet  \\\n",
       " 1799808           3          2.0                          1237   \n",
       " 298739            1          1.0                           353   \n",
       " 1391353           4          3.0                          2128   \n",
       " 818695            3          2.0                          1325   \n",
       " 1243493           3          2.0                          1798   \n",
       " ...             ...          ...                           ...   \n",
       " 1420646           4          3.5                          3982   \n",
       " 1380041           3          1.0                          1576   \n",
       " 1350393           4          3.0                          2320   \n",
       " 132122            3          4.0                          2444   \n",
       " 810324            3          2.0                          1750   \n",
       " \n",
       "          taxvaluedollarcnt  yearbuilt  taxamount  fips  taxvaluedollarcnt_bins  \n",
       " 1799808             200986       1953    2462.52  6037                       0  \n",
       " 298739              255905       1944    5738.68  6059                       0  \n",
       " 1391353             197642       1991    4193.75  6037                       0  \n",
       " 818695              420000       1970    5001.48  6111                       0  \n",
       " 1243493              67882       1961    1098.66  6037                       0  \n",
       " ...                    ...        ...        ...   ...                     ...  \n",
       " 1420646            1097665       2001   12281.30  6059                       0  \n",
       " 1380041             201945       1950    2736.35  6037                       0  \n",
       " 1350393             552202       1989    6452.07  6037                       0  \n",
       " 132122             1472111       1952   17689.94  6037                       0  \n",
       " 810324              512500       1953    6247.39  6037                       0  \n",
       " \n",
       " [428047 rows x 8 columns])"
      ]
     },
     "execution_count": 7,
     "metadata": {},
     "output_type": "execute_result"
    }
   ],
   "source": [
    "w.splitting_data(df,'taxvaluedollarcnt_bins')"
   ]
  },
  {
   "cell_type": "code",
   "execution_count": null,
   "id": "264e891b-b9e2-4055-8db8-125c5059ad0d",
   "metadata": {},
   "outputs": [],
   "source": []
  },
  {
   "cell_type": "code",
   "execution_count": null,
   "id": "eac21a85-b085-470e-8694-38519113b434",
   "metadata": {},
   "outputs": [],
   "source": []
  },
  {
   "cell_type": "code",
   "execution_count": null,
   "id": "d24fa26e-e46e-41e8-9371-ded9c94031de",
   "metadata": {},
   "outputs": [],
   "source": []
  },
  {
   "cell_type": "code",
   "execution_count": null,
   "id": "9b201e4b-e8e2-479e-b876-8c968ccdf572",
   "metadata": {},
   "outputs": [],
   "source": []
  },
  {
   "cell_type": "code",
   "execution_count": null,
   "id": "1938d665-7b7a-4616-8b24-3764af473c6e",
   "metadata": {},
   "outputs": [],
   "source": []
  },
  {
   "cell_type": "code",
   "execution_count": null,
   "id": "6c825278-fb10-47df-aa61-2ce1354a26e3",
   "metadata": {},
   "outputs": [],
   "source": []
  },
  {
   "cell_type": "code",
   "execution_count": null,
   "id": "d04c2704-9fb0-47da-a439-563c164068c5",
   "metadata": {},
   "outputs": [],
   "source": []
  },
  {
   "cell_type": "code",
   "execution_count": null,
   "id": "4b90d9d5-f219-475a-bdda-b39f0279d3c1",
   "metadata": {},
   "outputs": [],
   "source": []
  },
  {
   "cell_type": "code",
   "execution_count": null,
   "id": "a7c083b0-e145-4333-acf4-563fec058852",
   "metadata": {},
   "outputs": [],
   "source": []
  },
  {
   "cell_type": "code",
   "execution_count": null,
   "id": "8b369f38-15c4-445a-927c-d482dee65738",
   "metadata": {},
   "outputs": [],
   "source": []
  },
  {
   "cell_type": "code",
   "execution_count": null,
   "id": "66ec0535-91d8-41d1-8201-75a3d53725fc",
   "metadata": {},
   "outputs": [],
   "source": []
  },
  {
   "cell_type": "code",
   "execution_count": null,
   "id": "acc1b6c4-5d30-4507-b349-dd9a02501a0c",
   "metadata": {},
   "outputs": [],
   "source": []
  },
  {
   "cell_type": "code",
   "execution_count": null,
   "id": "ac95425c-a108-49e9-9957-bb61ca1fef74",
   "metadata": {},
   "outputs": [],
   "source": []
  },
  {
   "cell_type": "code",
   "execution_count": null,
   "id": "2f187eab-8300-411a-8d23-7ec7846127bf",
   "metadata": {},
   "outputs": [],
   "source": []
  },
  {
   "cell_type": "code",
   "execution_count": null,
   "id": "13107755-6221-42cb-ab5e-7211f3e40765",
   "metadata": {},
   "outputs": [],
   "source": []
  }
 ],
 "metadata": {
  "kernelspec": {
   "display_name": "Python 3 (ipykernel)",
   "language": "python",
   "name": "python3"
  },
  "language_info": {
   "codemirror_mode": {
    "name": "ipython",
    "version": 3
   },
   "file_extension": ".py",
   "mimetype": "text/x-python",
   "name": "python",
   "nbconvert_exporter": "python",
   "pygments_lexer": "ipython3",
   "version": "3.11.5"
  }
 },
 "nbformat": 4,
 "nbformat_minor": 5
}
